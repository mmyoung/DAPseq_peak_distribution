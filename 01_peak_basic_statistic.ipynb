{
 "cells": [
  {
   "cell_type": "code",
   "execution_count": 28,
   "metadata": {},
   "outputs": [],
   "source": [
    "import os\n",
    "import pandas as pd\n",
    "import numpy as np\n",
    "import matplotlib.pyplot as plt"
   ]
  },
  {
   "cell_type": "code",
   "execution_count": 3,
   "metadata": {},
   "outputs": [],
   "source": [
    "os.chdir(\"/clusterfs/jgi/groups/gentech/homes/romalley/full_DAPseq_annotation\")"
   ]
  },
  {
   "cell_type": "code",
   "execution_count": 4,
   "metadata": {},
   "outputs": [
    {
     "name": "stdout",
     "output_type": "stream",
     "text": [
      "      1 annotated_peak_region\n",
      " 274785 cds\n",
      "  87599 intron\n",
      " 872870 upstream\n",
      " 143221 utr5prime\n"
     ]
    }
   ],
   "source": [
    "!cat ./raw_data/N4_filtered-annotated-peaks_minfoldch5_minus-2000bp-to-plus-500bp_111623.tsv |grep \"Arabidopsis_thaliana_Col-0\"|cut -f 20|sort|uniq -c"
   ]
  },
  {
   "cell_type": "code",
   "execution_count": 5,
   "metadata": {},
   "outputs": [
    {
     "name": "stdout",
     "output_type": "stream",
     "text": [
      "      1 annotated_peak_region\n",
      " 407987 cds\n",
      " 173633 downstream\n",
      " 236436 intron\n",
      " 121029 utr3prime\n"
     ]
    }
   ],
   "source": [
    "!cat ./raw_data/N4_filtered-annotated-peaks_minfoldch5_genebody_plus_500bpStart-to-plus-600bpStop_111924.tsv |grep \"Arabidopsis_thaliana_Col-0\"|cut -f 20|sort|uniq -c"
   ]
  },
  {
   "cell_type": "markdown",
   "metadata": {},
   "source": [
    "how many peaks are annotated as in both promoter and genebody regions"
   ]
  },
  {
   "cell_type": "code",
   "execution_count": 6,
   "metadata": {},
   "outputs": [],
   "source": [
    "import pandas as pd\n",
    "from glob import glob\n",
    "import numpy as np"
   ]
  },
  {
   "cell_type": "code",
   "execution_count": 30,
   "metadata": {},
   "outputs": [
    {
     "data": {
      "text/html": [
       "<div>\n",
       "<style scoped>\n",
       "    .dataframe tbody tr th:only-of-type {\n",
       "        vertical-align: middle;\n",
       "    }\n",
       "\n",
       "    .dataframe tbody tr th {\n",
       "        vertical-align: top;\n",
       "    }\n",
       "\n",
       "    .dataframe thead th {\n",
       "        text-align: right;\n",
       "    }\n",
       "</style>\n",
       "<table border=\"1\" class=\"dataframe\">\n",
       "  <thead>\n",
       "    <tr style=\"text-align: right;\">\n",
       "      <th></th>\n",
       "      <th>peak_chr</th>\n",
       "      <th>peak_start</th>\n",
       "      <th>peak_end</th>\n",
       "      <th>peak_name</th>\n",
       "      <th>peak_foldch</th>\n",
       "      <th>peak_pscore</th>\n",
       "      <th>peak_qscore</th>\n",
       "      <th>peak_summit</th>\n",
       "      <th>feature_chr</th>\n",
       "      <th>feature_source</th>\n",
       "      <th>...</th>\n",
       "      <th>gene</th>\n",
       "      <th>tf</th>\n",
       "      <th>og_targeted_frac</th>\n",
       "      <th>cons_Arabidopsis_thaliana_Col-0</th>\n",
       "      <th>cons_Arabidopsis_lyrata_MN47</th>\n",
       "      <th>cons_Capsella_rubella_Monte_Gargano</th>\n",
       "      <th>cons_Brassica_oleracea_TO1000DH3</th>\n",
       "      <th>n_cons_species_minfrac0</th>\n",
       "      <th>n_species_in_orthogroup</th>\n",
       "      <th>n_cons_species_clade_aware</th>\n",
       "    </tr>\n",
       "  </thead>\n",
       "  <tbody>\n",
       "    <tr>\n",
       "      <th>0</th>\n",
       "      <td>Chr3</td>\n",
       "      <td>15645684</td>\n",
       "      <td>15646225</td>\n",
       "      <td>AT1G01060_A_thaliana_Col-0_DAPi709D10-ORGi5005...</td>\n",
       "      <td>121.602</td>\n",
       "      <td>1156.46</td>\n",
       "      <td>1152.01</td>\n",
       "      <td>268</td>\n",
       "      <td>Chr3</td>\n",
       "      <td>phytozomev12</td>\n",
       "      <td>...</td>\n",
       "      <td>AT3G43750</td>\n",
       "      <td>AT1G01060</td>\n",
       "      <td>0.857143</td>\n",
       "      <td>0.857143</td>\n",
       "      <td>0.285714</td>\n",
       "      <td>0.4</td>\n",
       "      <td>0.000000</td>\n",
       "      <td>3</td>\n",
       "      <td>4</td>\n",
       "      <td>3</td>\n",
       "    </tr>\n",
       "    <tr>\n",
       "      <th>1</th>\n",
       "      <td>Chr1</td>\n",
       "      <td>1637949</td>\n",
       "      <td>1638542</td>\n",
       "      <td>AT1G01060_A_thaliana_Col-0_DAPi709D10-ORGi5005...</td>\n",
       "      <td>115.549</td>\n",
       "      <td>1085.10</td>\n",
       "      <td>1080.68</td>\n",
       "      <td>228</td>\n",
       "      <td>Chr1</td>\n",
       "      <td>phytozomev12</td>\n",
       "      <td>...</td>\n",
       "      <td>AT1G05540</td>\n",
       "      <td>AT1G01060</td>\n",
       "      <td>1.000000</td>\n",
       "      <td>1.000000</td>\n",
       "      <td>0.000000</td>\n",
       "      <td>0.5</td>\n",
       "      <td>0.000000</td>\n",
       "      <td>2</td>\n",
       "      <td>4</td>\n",
       "      <td>1</td>\n",
       "    </tr>\n",
       "    <tr>\n",
       "      <th>2</th>\n",
       "      <td>Chr1</td>\n",
       "      <td>1637949</td>\n",
       "      <td>1638542</td>\n",
       "      <td>AT1G01060_A_thaliana_Col-0_DAPi709D10-ORGi5005...</td>\n",
       "      <td>115.549</td>\n",
       "      <td>1085.10</td>\n",
       "      <td>1080.68</td>\n",
       "      <td>228</td>\n",
       "      <td>Chr1</td>\n",
       "      <td>phytozomev12</td>\n",
       "      <td>...</td>\n",
       "      <td>AT1G05530</td>\n",
       "      <td>AT1G01060</td>\n",
       "      <td>0.500000</td>\n",
       "      <td>0.500000</td>\n",
       "      <td>0.000000</td>\n",
       "      <td>0.0</td>\n",
       "      <td>0.500000</td>\n",
       "      <td>2</td>\n",
       "      <td>4</td>\n",
       "      <td>1</td>\n",
       "    </tr>\n",
       "    <tr>\n",
       "      <th>3</th>\n",
       "      <td>Chr1</td>\n",
       "      <td>18204823</td>\n",
       "      <td>18205351</td>\n",
       "      <td>AT1G01060_A_thaliana_Col-0_DAPi709D10-ORGi5005...</td>\n",
       "      <td>115.549</td>\n",
       "      <td>1085.10</td>\n",
       "      <td>1080.68</td>\n",
       "      <td>268</td>\n",
       "      <td>Chr1</td>\n",
       "      <td>phytozomev12</td>\n",
       "      <td>...</td>\n",
       "      <td>AT1G49220</td>\n",
       "      <td>AT1G01060</td>\n",
       "      <td>0.666667</td>\n",
       "      <td>0.666667</td>\n",
       "      <td>0.666667</td>\n",
       "      <td>1.0</td>\n",
       "      <td>0.333333</td>\n",
       "      <td>4</td>\n",
       "      <td>4</td>\n",
       "      <td>4</td>\n",
       "    </tr>\n",
       "    <tr>\n",
       "      <th>4</th>\n",
       "      <td>Chr1</td>\n",
       "      <td>17178696</td>\n",
       "      <td>17179222</td>\n",
       "      <td>AT1G01060_A_thaliana_Col-0_DAPi709D10-ORGi5005...</td>\n",
       "      <td>110.414</td>\n",
       "      <td>1025.15</td>\n",
       "      <td>1020.76</td>\n",
       "      <td>268</td>\n",
       "      <td>Chr1</td>\n",
       "      <td>phytozomev12</td>\n",
       "      <td>...</td>\n",
       "      <td>AT1G45474</td>\n",
       "      <td>AT1G01060</td>\n",
       "      <td>1.000000</td>\n",
       "      <td>1.000000</td>\n",
       "      <td>0.000000</td>\n",
       "      <td>1.0</td>\n",
       "      <td>1.000000</td>\n",
       "      <td>3</td>\n",
       "      <td>4</td>\n",
       "      <td>1</td>\n",
       "    </tr>\n",
       "  </tbody>\n",
       "</table>\n",
       "<p>5 rows × 39 columns</p>\n",
       "</div>"
      ],
      "text/plain": [
       "  peak_chr  peak_start  peak_end  \\\n",
       "0     Chr3    15645684  15646225   \n",
       "1     Chr1     1637949   1638542   \n",
       "2     Chr1     1637949   1638542   \n",
       "3     Chr1    18204823  18205351   \n",
       "4     Chr1    17178696  17179222   \n",
       "\n",
       "                                           peak_name  peak_foldch  \\\n",
       "0  AT1G01060_A_thaliana_Col-0_DAPi709D10-ORGi5005...      121.602   \n",
       "1  AT1G01060_A_thaliana_Col-0_DAPi709D10-ORGi5005...      115.549   \n",
       "2  AT1G01060_A_thaliana_Col-0_DAPi709D10-ORGi5005...      115.549   \n",
       "3  AT1G01060_A_thaliana_Col-0_DAPi709D10-ORGi5005...      115.549   \n",
       "4  AT1G01060_A_thaliana_Col-0_DAPi709D10-ORGi5005...      110.414   \n",
       "\n",
       "   peak_pscore  peak_qscore  peak_summit feature_chr feature_source  ...  \\\n",
       "0      1156.46      1152.01          268        Chr3   phytozomev12  ...   \n",
       "1      1085.10      1080.68          228        Chr1   phytozomev12  ...   \n",
       "2      1085.10      1080.68          228        Chr1   phytozomev12  ...   \n",
       "3      1085.10      1080.68          268        Chr1   phytozomev12  ...   \n",
       "4      1025.15      1020.76          268        Chr1   phytozomev12  ...   \n",
       "\n",
       "        gene         tf  og_targeted_frac cons_Arabidopsis_thaliana_Col-0  \\\n",
       "0  AT3G43750  AT1G01060          0.857143                        0.857143   \n",
       "1  AT1G05540  AT1G01060          1.000000                        1.000000   \n",
       "2  AT1G05530  AT1G01060          0.500000                        0.500000   \n",
       "3  AT1G49220  AT1G01060          0.666667                        0.666667   \n",
       "4  AT1G45474  AT1G01060          1.000000                        1.000000   \n",
       "\n",
       "  cons_Arabidopsis_lyrata_MN47  cons_Capsella_rubella_Monte_Gargano  \\\n",
       "0                     0.285714                                  0.4   \n",
       "1                     0.000000                                  0.5   \n",
       "2                     0.000000                                  0.0   \n",
       "3                     0.666667                                  1.0   \n",
       "4                     0.000000                                  1.0   \n",
       "\n",
       "   cons_Brassica_oleracea_TO1000DH3  n_cons_species_minfrac0  \\\n",
       "0                          0.000000                        3   \n",
       "1                          0.000000                        2   \n",
       "2                          0.500000                        2   \n",
       "3                          0.333333                        4   \n",
       "4                          1.000000                        3   \n",
       "\n",
       "  n_species_in_orthogroup n_cons_species_clade_aware  \n",
       "0                       4                          3  \n",
       "1                       4                          1  \n",
       "2                       4                          1  \n",
       "3                       4                          4  \n",
       "4                       4                          1  \n",
       "\n",
       "[5 rows x 39 columns]"
      ]
     },
     "execution_count": 30,
     "metadata": {},
     "output_type": "execute_result"
    }
   ],
   "source": [
    "df_pro = pd.read_csv('./raw_data/N4_filtered-annotated-peaks_minfoldch5_minus-2000bp-to-plus-500bp_111623.tsv', sep='\\t', header=0)\n",
    "df_pro = df_pro.loc[df_pro[\"species\"]==\"Arabidopsis_thaliana_Col-0\"]\n",
    "df_pro.head()"
   ]
  },
  {
   "cell_type": "code",
   "execution_count": 31,
   "metadata": {},
   "outputs": [
    {
     "data": {
      "text/html": [
       "<div>\n",
       "<style scoped>\n",
       "    .dataframe tbody tr th:only-of-type {\n",
       "        vertical-align: middle;\n",
       "    }\n",
       "\n",
       "    .dataframe tbody tr th {\n",
       "        vertical-align: top;\n",
       "    }\n",
       "\n",
       "    .dataframe thead th {\n",
       "        text-align: right;\n",
       "    }\n",
       "</style>\n",
       "<table border=\"1\" class=\"dataframe\">\n",
       "  <thead>\n",
       "    <tr style=\"text-align: right;\">\n",
       "      <th></th>\n",
       "      <th>peak_chr</th>\n",
       "      <th>peak_start</th>\n",
       "      <th>peak_end</th>\n",
       "      <th>peak_name</th>\n",
       "      <th>peak_foldch</th>\n",
       "      <th>peak_pscore</th>\n",
       "      <th>peak_qscore</th>\n",
       "      <th>peak_summit</th>\n",
       "      <th>feature_chr</th>\n",
       "      <th>feature_source</th>\n",
       "      <th>...</th>\n",
       "      <th>single_copy_ortho</th>\n",
       "      <th>gene</th>\n",
       "      <th>tf</th>\n",
       "      <th>og_targeted_frac</th>\n",
       "      <th>cons_Arabidopsis_thaliana_Col-0</th>\n",
       "      <th>cons_Arabidopsis_lyrata_MN47</th>\n",
       "      <th>cons_Capsella_rubella_Monte_Gargano</th>\n",
       "      <th>cons_Brassica_oleracea_TO1000DH3</th>\n",
       "      <th>n_cons_species_minfrac0</th>\n",
       "      <th>n_species_in_orthogroup</th>\n",
       "    </tr>\n",
       "  </thead>\n",
       "  <tbody>\n",
       "    <tr>\n",
       "      <th>0</th>\n",
       "      <td>Chr3</td>\n",
       "      <td>15645684</td>\n",
       "      <td>15646225</td>\n",
       "      <td>AT1G01060_A_thaliana_Col-0_DAPi709D10-ORGi5005...</td>\n",
       "      <td>121.6020</td>\n",
       "      <td>1156.460</td>\n",
       "      <td>1152.010</td>\n",
       "      <td>268</td>\n",
       "      <td>Chr3</td>\n",
       "      <td>phytozomev12</td>\n",
       "      <td>...</td>\n",
       "      <td>False</td>\n",
       "      <td>AT3G43740</td>\n",
       "      <td>AT1G01060</td>\n",
       "      <td>1.0</td>\n",
       "      <td>1.0</td>\n",
       "      <td>0.0</td>\n",
       "      <td>0.000000</td>\n",
       "      <td>0.0</td>\n",
       "      <td>1</td>\n",
       "      <td>3</td>\n",
       "    </tr>\n",
       "    <tr>\n",
       "      <th>1</th>\n",
       "      <td>Chr3</td>\n",
       "      <td>10891839</td>\n",
       "      <td>10892318</td>\n",
       "      <td>AT1G01060_A_thaliana_Col-0_DAPi709D10-ORGi5005...</td>\n",
       "      <td>118.3000</td>\n",
       "      <td>1117.450</td>\n",
       "      <td>1113.010</td>\n",
       "      <td>250</td>\n",
       "      <td>Chr3</td>\n",
       "      <td>phytozomev12</td>\n",
       "      <td>...</td>\n",
       "      <td>False</td>\n",
       "      <td>AT3G28870</td>\n",
       "      <td>AT1G01060</td>\n",
       "      <td>0.5</td>\n",
       "      <td>0.5</td>\n",
       "      <td>0.0</td>\n",
       "      <td>0.000000</td>\n",
       "      <td>0.0</td>\n",
       "      <td>1</td>\n",
       "      <td>4</td>\n",
       "    </tr>\n",
       "    <tr>\n",
       "      <th>2</th>\n",
       "      <td>Chr3</td>\n",
       "      <td>10449558</td>\n",
       "      <td>10450060</td>\n",
       "      <td>AT1G01060_A_thaliana_Col-0_DAPi709D10-ORGi5005...</td>\n",
       "      <td>118.1170</td>\n",
       "      <td>1115.290</td>\n",
       "      <td>1110.850</td>\n",
       "      <td>252</td>\n",
       "      <td>Chr3</td>\n",
       "      <td>phytozomev12</td>\n",
       "      <td>...</td>\n",
       "      <td>False</td>\n",
       "      <td>AT3G28070</td>\n",
       "      <td>AT1G01060</td>\n",
       "      <td>1.0</td>\n",
       "      <td>1.0</td>\n",
       "      <td>0.5</td>\n",
       "      <td>0.333333</td>\n",
       "      <td>0.5</td>\n",
       "      <td>4</td>\n",
       "      <td>4</td>\n",
       "    </tr>\n",
       "    <tr>\n",
       "      <th>3</th>\n",
       "      <td>Chr3</td>\n",
       "      <td>10450281</td>\n",
       "      <td>10450581</td>\n",
       "      <td>AT1G01060_A_thaliana_Col-0_DAPi709D10-ORGi5005...</td>\n",
       "      <td>19.4416</td>\n",
       "      <td>103.225</td>\n",
       "      <td>100.876</td>\n",
       "      <td>148</td>\n",
       "      <td>Chr3</td>\n",
       "      <td>phytozomev12</td>\n",
       "      <td>...</td>\n",
       "      <td>False</td>\n",
       "      <td>AT3G28070</td>\n",
       "      <td>AT1G01060</td>\n",
       "      <td>1.0</td>\n",
       "      <td>1.0</td>\n",
       "      <td>0.5</td>\n",
       "      <td>0.333333</td>\n",
       "      <td>0.5</td>\n",
       "      <td>4</td>\n",
       "      <td>4</td>\n",
       "    </tr>\n",
       "    <tr>\n",
       "      <th>4</th>\n",
       "      <td>Chr4</td>\n",
       "      <td>2117267</td>\n",
       "      <td>2117827</td>\n",
       "      <td>AT1G01060_A_thaliana_Col-0_DAPi709D10-ORGi5005...</td>\n",
       "      <td>110.4140</td>\n",
       "      <td>1025.150</td>\n",
       "      <td>1020.760</td>\n",
       "      <td>285</td>\n",
       "      <td>Chr4</td>\n",
       "      <td>phytozomev12</td>\n",
       "      <td>...</td>\n",
       "      <td>True</td>\n",
       "      <td>AT4G04330</td>\n",
       "      <td>AT1G01060</td>\n",
       "      <td>1.0</td>\n",
       "      <td>1.0</td>\n",
       "      <td>0.0</td>\n",
       "      <td>0.000000</td>\n",
       "      <td>0.0</td>\n",
       "      <td>1</td>\n",
       "      <td>4</td>\n",
       "    </tr>\n",
       "  </tbody>\n",
       "</table>\n",
       "<p>5 rows × 38 columns</p>\n",
       "</div>"
      ],
      "text/plain": [
       "  peak_chr  peak_start  peak_end  \\\n",
       "0     Chr3    15645684  15646225   \n",
       "1     Chr3    10891839  10892318   \n",
       "2     Chr3    10449558  10450060   \n",
       "3     Chr3    10450281  10450581   \n",
       "4     Chr4     2117267   2117827   \n",
       "\n",
       "                                           peak_name  peak_foldch  \\\n",
       "0  AT1G01060_A_thaliana_Col-0_DAPi709D10-ORGi5005...     121.6020   \n",
       "1  AT1G01060_A_thaliana_Col-0_DAPi709D10-ORGi5005...     118.3000   \n",
       "2  AT1G01060_A_thaliana_Col-0_DAPi709D10-ORGi5005...     118.1170   \n",
       "3  AT1G01060_A_thaliana_Col-0_DAPi709D10-ORGi5005...      19.4416   \n",
       "4  AT1G01060_A_thaliana_Col-0_DAPi709D10-ORGi5005...     110.4140   \n",
       "\n",
       "   peak_pscore  peak_qscore  peak_summit feature_chr feature_source  ...  \\\n",
       "0     1156.460     1152.010          268        Chr3   phytozomev12  ...   \n",
       "1     1117.450     1113.010          250        Chr3   phytozomev12  ...   \n",
       "2     1115.290     1110.850          252        Chr3   phytozomev12  ...   \n",
       "3      103.225      100.876          148        Chr3   phytozomev12  ...   \n",
       "4     1025.150     1020.760          285        Chr4   phytozomev12  ...   \n",
       "\n",
       "  single_copy_ortho       gene         tf og_targeted_frac  \\\n",
       "0             False  AT3G43740  AT1G01060              1.0   \n",
       "1             False  AT3G28870  AT1G01060              0.5   \n",
       "2             False  AT3G28070  AT1G01060              1.0   \n",
       "3             False  AT3G28070  AT1G01060              1.0   \n",
       "4              True  AT4G04330  AT1G01060              1.0   \n",
       "\n",
       "  cons_Arabidopsis_thaliana_Col-0  cons_Arabidopsis_lyrata_MN47  \\\n",
       "0                             1.0                           0.0   \n",
       "1                             0.5                           0.0   \n",
       "2                             1.0                           0.5   \n",
       "3                             1.0                           0.5   \n",
       "4                             1.0                           0.0   \n",
       "\n",
       "   cons_Capsella_rubella_Monte_Gargano  cons_Brassica_oleracea_TO1000DH3  \\\n",
       "0                             0.000000                               0.0   \n",
       "1                             0.000000                               0.0   \n",
       "2                             0.333333                               0.5   \n",
       "3                             0.333333                               0.5   \n",
       "4                             0.000000                               0.0   \n",
       "\n",
       "  n_cons_species_minfrac0 n_species_in_orthogroup  \n",
       "0                       1                       3  \n",
       "1                       1                       4  \n",
       "2                       4                       4  \n",
       "3                       4                       4  \n",
       "4                       1                       4  \n",
       "\n",
       "[5 rows x 38 columns]"
      ]
     },
     "execution_count": 31,
     "metadata": {},
     "output_type": "execute_result"
    }
   ],
   "source": [
    "df_gb= pd.read_csv('./raw_data/N4_filtered-annotated-peaks_minfoldch5_genebody_plus_500bpStart-to-plus-600bpStop_111924.tsv', sep='\\t', header=0)\n",
    "df_gb = df_gb.loc[df_gb[\"species\"]==\"Arabidopsis_thaliana_Col-0\"]\n",
    "df_gb.head()"
   ]
  },
  {
   "cell_type": "code",
   "execution_count": 17,
   "metadata": {},
   "outputs": [],
   "source": [
    "promoter_peak_name = df_pro.loc[df_pro['species']==\"Arabidopsis_thaliana_Col-0\",\"peak_name\"].unique()"
   ]
  },
  {
   "cell_type": "code",
   "execution_count": 18,
   "metadata": {},
   "outputs": [],
   "source": [
    "genebody_peak_name = df_gb.loc[df_gb['species']==\"Arabidopsis_thaliana_Col-0\",\"peak_name\"].unique()"
   ]
  },
  {
   "cell_type": "code",
   "execution_count": 27,
   "metadata": {},
   "outputs": [
    {
     "name": "stdout",
     "output_type": "stream",
     "text": [
      "86363\n",
      "1250282\n",
      "926925\n"
     ]
    }
   ],
   "source": [
    "print(len(np.intersect1d(promoter_peak_name,genebody_peak_name)));print(len(promoter_peak_name));print(len(genebody_peak_name))"
   ]
  },
  {
   "cell_type": "code",
   "execution_count": 38,
   "metadata": {},
   "outputs": [
    {
     "data": {
      "text/plain": [
       "600"
      ]
     },
     "metadata": {},
     "output_type": "display_data"
    },
    {
     "data": {
      "text/plain": [
       "-26394"
      ]
     },
     "metadata": {},
     "output_type": "display_data"
    }
   ],
   "source": [
    "display(max(df_gb['summit_to_cds_end']))\n",
    "display(min(df_gb['summit_to_cds_end']))"
   ]
  },
  {
   "cell_type": "code",
   "execution_count": 39,
   "metadata": {},
   "outputs": [
    {
     "data": {
      "text/plain": [
       "(array([2.60000e+01, 2.10000e+01, 1.70000e+01, 4.70000e+01, 2.60000e+01,\n",
       "        5.60000e+01, 4.10000e+01, 3.90000e+01, 4.30000e+01, 8.80000e+01,\n",
       "        1.07000e+02, 1.09000e+02, 1.75000e+02, 1.89000e+02, 2.67000e+02,\n",
       "        4.16000e+02, 5.24000e+02, 7.16000e+02, 9.91000e+02, 1.30700e+03,\n",
       "        1.91700e+03, 2.99400e+03, 4.86200e+03, 8.56000e+03, 1.46920e+04,\n",
       "        2.87000e+04, 5.85230e+04, 1.31063e+05, 2.61270e+05, 4.21299e+05]),\n",
       " array([-26394. , -25494.2, -24594.4, -23694.6, -22794.8, -21895. ,\n",
       "        -20995.2, -20095.4, -19195.6, -18295.8, -17396. , -16496.2,\n",
       "        -15596.4, -14696.6, -13796.8, -12897. , -11997.2, -11097.4,\n",
       "        -10197.6,  -9297.8,  -8398. ,  -7498.2,  -6598.4,  -5698.6,\n",
       "         -4798.8,  -3899. ,  -2999.2,  -2099.4,  -1199.6,   -299.8,\n",
       "           600. ]),\n",
       " <BarContainer object of 30 artists>)"
      ]
     },
     "execution_count": 39,
     "metadata": {},
     "output_type": "execute_result"
    },
    {
     "data": {
      "image/png": "[encoded data removed]",
      "text/plain": [
       "<Figure size 640x480 with 1 Axes>"
      ]
     },
     "metadata": {},
     "output_type": "display_data"
    }
   ],
   "source": [
    "## distance to cds end distribution\n",
    "plt.hist(df_gb['summit_to_cds_end'], bins=30)"
   ]
  },
  {
   "cell_type": "markdown",
   "metadata": {},
   "source": []
  },
  {
   "cell_type": "code",
   "execution_count": 40,
   "metadata": {},
   "outputs": [],
   "source": [
    "df_gb= pd.read_csv('./raw_data/N4_filtered-annotated-peaks_minfoldch5_genebody_plus_500bpStart-to-plus-600bpStop_111924.tsv', sep='\\t', header=0)"
   ]
  },
  {
   "cell_type": "code",
   "execution_count": 43,
   "metadata": {},
   "outputs": [
    {
     "data": {
      "text/plain": [
       "species                         n_cons_species_minfrac0\n",
       "Arabidopsis_lyrata_MN47         1                          219823\n",
       "                                2                          235467\n",
       "                                3                          225521\n",
       "                                4                          242272\n",
       "Arabidopsis_thaliana_Col-0      1                          212070\n",
       "                                2                          244163\n",
       "                                3                          236421\n",
       "                                4                          246431\n",
       "Brassica_oleracea_TO1000DH3     1                          809186\n",
       "                                2                          358081\n",
       "                                3                          270137\n",
       "                                4                          344725\n",
       "Capsella_rubella_Monte_Gargano  1                          273174\n",
       "                                2                          239374\n",
       "                                3                          213088\n",
       "                                4                          245169\n",
       "dtype: int64"
      ]
     },
     "execution_count": 43,
     "metadata": {},
     "output_type": "execute_result"
    }
   ],
   "source": [
    "df_gb.groupby(['species','n_cons_species_minfrac0']).size()"
   ]
  },
  {
   "cell_type": "code",
   "execution_count": null,
   "metadata": {},
   "outputs": [],
   "source": []
  },
  {
   "cell_type": "code",
   "execution_count": null,
   "metadata": {},
   "outputs": [],
   "source": [
    "#### get the common targets of promoter peaks and genebody peaks"
   ]
  }
 ],
 "metadata": {
  "kernelspec": {
   "display_name": "base",
   "language": "python",
   "name": "python3"
  },
  "language_info": {
   "codemirror_mode": {
    "name": "ipython",
    "version": 3
   },
   "file_extension": ".py",
   "mimetype": "text/x-python",
   "name": "python",
   "nbconvert_exporter": "python",
   "pygments_lexer": "ipython3",
   "version": "3.12.2"
  }
 },
 "nbformat": 4,
 "nbformat_minor": 2
}
